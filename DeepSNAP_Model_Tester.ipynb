{
 "cells": [
  {
   "cell_type": "code",
   "execution_count": 175,
   "metadata": {},
   "outputs": [],
   "source": [
    "import pandas as pd\n",
    "from pandas import ExcelWriter\n",
    "from pandas import ExcelFile\n",
    "import numpy as np\n",
    "import random as rand\n",
    "import queue\n",
    "import csv\n",
    "from collections import OrderedDict\n",
    "from IPython.display import clear_output\n",
    "import csv\n",
    "from heapq import merge\n",
    "from sklearn import preprocessing\n",
    "from operator import itemgetter\n",
    "import bisect\n",
    "\n",
    "from sklearn.datasets import make_circles, make_moons\n",
    "import matplotlib.pyplot as plt\n",
    "import matplotlib\n",
    "from sklearn.model_selection import train_test_split\n",
    "\n",
    "import torch\n",
    "import torch.nn as nn\n",
    "import torch.nn.functional as F\n",
    "import torch.optim as optim\n",
    "import torchvision\n",
    "import torchvision.transforms as transforms\n",
    "import torchvision.datasets as datasets\n",
    "from IPython.core.debugger import set_trace\n",
    "from torch.utils.data.sampler import SubsetRandomSampler\n",
    "from torch.autograd import Variable"
   ]
  },
  {
   "cell_type": "code",
   "execution_count": 220,
   "metadata": {},
   "outputs": [],
   "source": [
    "rand.seed(37)\n",
    "AAMass = {'A':71.037114, 'C':103.009185, 'D':115.026943, 'E':129.042593, 'F':147.068414, 'G':57.021464, 'H':137.058912,\n",
    "          'I':113.084064, 'K':128.094963, 'L':113.084064, 'M':131.040485, 'N':114.042927, 'P':97.052764, 'Q':128.058578,\n",
    "          'R':156.101111, 'S':87.032028, 'T':101.047679, 'V':99.068414, 'W':186.079313, 'Y':163.0633}\n",
    "\n",
    "H2O = 18.01528\n",
    "PROTON = 1.00727647\n",
    "specsize = 8000\n",
    "precursor_tolerance = 3.0\n",
    "num_psm = 1\n",
    "charge = 2\n",
    "use_mods = False"
   ]
  },
  {
   "cell_type": "code",
   "execution_count": 301,
   "metadata": {},
   "outputs": [
    {
     "name": "stdout",
     "output_type": "stream",
     "text": [
      "printing by:\n",
      "[0. 0. 0. ... 0. 0. 0.]\n",
      "(8000,)\n",
      "113.084064\n"
     ]
    }
   ],
   "source": [
    "def GetAAMass(AA):\n",
    "    return AAMass[AA] + 57.021464 if AA == 'C' else AAMass[AA]\n",
    "\n",
    "def GetPepMass(pep):\n",
    "    return sum(AAMass[aa] for aa in pep) + H2O\n",
    "\n",
    "def GetSpectrum(Seq):\n",
    "    size = len(Seq)\n",
    "    outsize = 2*size\n",
    "    bspectrum = []\n",
    "    yspectrum = []\n",
    "    bspectrum.append(GetAAMass(Seq[0]) + PROTON)\n",
    "    yspectrum.append(GetAAMass(Seq[-1]) + H2O + PROTON)\n",
    "    \n",
    "    for i, (fAA, bAA) in enumerate(zip(Seq[1:], Seq[-2::-1])):\n",
    "        bspectrum.append(bspectrum[i] + GetAAMass(fAA))\n",
    "        yspectrum.append(yspectrum[i] + GetAAMass(bAA))\n",
    "    \n",
    "    mergedout = list(merge(bspectrum, yspectrum))\n",
    "    if mergedout[-1] > specsize:\n",
    "        print(mergedout[-1])\n",
    "        print(Seq)\n",
    "    tspec = np.zeros(specsize)\n",
    "    tspec[np.rint(mergedout).astype(int)] = 1\n",
    "    return tspec\n",
    "\n",
    "by = GetSpectrum('ACDEFG')\n",
    "print('printing by:\\n' + str(by))\n",
    "print(by.shape)\n",
    "print(AAMass['L'])"
   ]
  },
  {
   "cell_type": "code",
   "execution_count": 325,
   "metadata": {},
   "outputs": [
    {
     "name": "stdout",
     "output_type": "stream",
     "text": [
      "19%\n",
      "num multimods: 1\n"
     ]
    }
   ],
   "source": [
    "pepidmass = {}\n",
    "mods = {}\n",
    "spectra = []\n",
    "sortedpeps = []\n",
    "specmasses = []\n",
    "\n",
    "#f=open(\"data/human_consensus_final_true_lib_id.msp\", \"r\")\n",
    "f=open(\"data/human_hcd_selected_id.msp\", \"r\")\n",
    "\n",
    "fixedlen = 300\n",
    "dataset = []\n",
    "label = []\n",
    "lines = f.readlines()\n",
    "count = 0\n",
    "limit = 100000\n",
    "pep = mass = numPeaks = 0\n",
    "#spec = []\n",
    "isName = isMW = isNumPeaks = isID = False\n",
    "new = prev = 0\n",
    "maxpeaks = maxmoz = 0\n",
    "ids = []\n",
    "i = 0\n",
    "mod_count = 0\n",
    "multimods = 0\n",
    "while i < len(lines) and limit > 0:\n",
    "    line = lines[i]\n",
    "    i += 1\n",
    "    \n",
    "    splits = line.split(':')\n",
    "    if splits[0] == 'ID':\n",
    "        pepid = int(splits[1])\n",
    "        isID = True\n",
    "    \n",
    "    if isID and splits[0] == 'Name' and '_' in splits[1]:\n",
    "        split1 = splits[1]\n",
    "        l_charge = int(split1[split1.find('_') - 1])\n",
    "        if int(split1[split1.find('_') + 1]) > 7:\n",
    "            multimods += 1\n",
    "        if l_charge != charge:\n",
    "            isID = isName = isMW = isNumPeaks = False\n",
    "            continue\n",
    "        if use_mods:\n",
    "            if '(' in split1 and ')' in split1:\n",
    "                mod_count += 1\n",
    "                mod = split1.split('_')[1].strip()[:-1]\n",
    "                if mod not in mods:\n",
    "                    mods[mod] = 1\n",
    "                else:\n",
    "                    mods[mod] += 1\n",
    "            pep = split1.split('/')[0].lstrip(' ')\n",
    "            isName = True\n",
    "        elif '(' not in split1 and ')' not in split1:\n",
    "            pep = split1.split('/')[0].lstrip(' ')\n",
    "            isName = True\n",
    "        \n",
    "    if isID and isName and splits[0] == 'MW':\n",
    "        mass = float(splits[1])\n",
    "        if round(mass) < specsize:\n",
    "            isMW = True\n",
    "            limit = limit - 1\n",
    "        else:\n",
    "            isID = isName = isMW = isNumPeaks = False\n",
    "            continue\n",
    "        \n",
    "    if isID and isName and isMW and splits[0] == 'Num peaks':\n",
    "        numPeaks = int(splits[1])\n",
    "        if numPeaks > maxpeaks:\n",
    "            maxpeaks = numPeaks\n",
    "            \n",
    "        spec = np.zeros(specsize)\n",
    "        while (lines[i] != '\\n'):\n",
    "            mzline = lines[i]\n",
    "            i += 1\n",
    "            mzsplits = mzline.split('\\t')\n",
    "            moz, intensity = float(mzsplits[0]), float(mzsplits[1])\n",
    "            if moz > maxmoz:\n",
    "                maxmoz = moz\n",
    "            spec[round(moz)] += round(intensity)\n",
    "        \n",
    "        spec = np.clip(spec, None, 1000.0)\n",
    "        spec = preprocessing.scale(spec)\n",
    "        \n",
    "        isNumPeaks = True\n",
    "    if isID and isName and isMW and isNumPeaks:\n",
    "        isID = isName = isMW = isNumPeaks = False\n",
    "        spectra.append([spec, mass])\n",
    "        ids.append(pepid)\n",
    "        if pep not in pepidmass:\n",
    "            pepidmass[pep] = [[pepid], GetPepMass(pep)] #add calculated mass\n",
    "        else:\n",
    "            pepidmass[pep][0].append(pepid)\n",
    "            \n",
    "        count = count + 1\n",
    "        pepid = pep = mass = numPeaks = 0\n",
    "        spec = []\n",
    "        new = int((i/len(lines)) * 100)\n",
    "        if new > prev:\n",
    "            clear_output(wait=True)\n",
    "            print(str(new) + '%')\n",
    "            prev = new\n",
    "print('num multimods: ' + str(multimods))"
   ]
  },
  {
   "cell_type": "code",
   "execution_count": 326,
   "metadata": {},
   "outputs": [
    {
     "name": "stdout",
     "output_type": "stream",
     "text": [
      "num modified specs: 0\n",
      "num unique mods: 0\n",
      "max peaks: 1556\n",
      "count: 99999\n",
      "max moz: 4805.7422\n"
     ]
    }
   ],
   "source": [
    "sortedpeps = [[pep, float(mass[1])] for [pep, mass] in pepidmass.items()]\n",
    "sortedpeps, sortedpepmasses = list(zip(*sorted(sortedpeps, key=lambda pair: pair[1])))\n",
    "#sortedspectra, sortedspecmasses = list(zip(*sorted(spectra, key=lambda pair:pair[1])))\n",
    "sortedspectra, sortedspecmasses = list(zip(*spectra))\n",
    "#sortedpeps.sort(key=itemgetter(1))\n",
    "print('num modified specs: ' + str(sum(mods.values())))\n",
    "print('num unique mods: ' + str(len(mods)))\n",
    "\n",
    "print('max peaks: ' + str(maxpeaks))\n",
    "print('count: ' + str(count))\n",
    "print('max moz: ' + str(maxmoz))\n",
    "f.close()\n",
    "#for it in mods.items():\n",
    "#    print(it)\n",
    "\n",
    "#fo.close()"
   ]
  },
  {
   "cell_type": "code",
   "execution_count": 327,
   "metadata": {},
   "outputs": [
    {
     "name": "stdout",
     "output_type": "stream",
     "text": [
      "99999\n",
      "99999\n",
      "38069\n",
      "38069\n",
      "('AAGAGK', 'AAVAGK', 'ASVGAK', 'AAVGVK', 'AVAASK', 'AVATGK', 'AAVPAK', 'DGSGVK', 'AGAEVK', 'AATALK')\n",
      "(473.264513, 515.311463, 531.306377, 543.342763, 545.3220269999999, 545.3220279999999, 555.342763, 561.2805559999999, 573.316942, 573.353328)\n",
      "(array([-0.25096148, -0.25096148, -0.25096148, ..., -0.25096148,\n",
      "       -0.25096148, -0.25096148]), array([-0.0887433, -0.0887433, -0.0887433, ..., -0.0887433, -0.0887433,\n",
      "       -0.0887433]), array([-0.10882351, -0.10882351, -0.10882351, ..., -0.10882351,\n",
      "       -0.10882351, -0.10882351]), array([-0.1425991, -0.1425991, -0.1425991, ..., -0.1425991, -0.1425991,\n",
      "       -0.1425991]), array([-0.10666772, -0.10666772, -0.10666772, ..., -0.10666772,\n",
      "       -0.10666772, -0.10666772]), array([-0.17788793, -0.17788793, -0.17788793, ..., -0.17788793,\n",
      "       -0.17788793, -0.17788793]), array([-0.13776238, -0.13776238, -0.13776238, ..., -0.13776238,\n",
      "       -0.13776238, -0.13776238]), array([-0.0977083, -0.0977083, -0.0977083, ..., -0.0977083, -0.0977083,\n",
      "       -0.0977083]), array([-0.1307353, -0.1307353, -0.1307353, ..., -0.1307353, -0.1307353,\n",
      "       -0.1307353]), array([-0.08426389, -0.08426389, -0.08426389, ..., -0.08426389,\n",
      "       -0.08426389, -0.08426389]))\n",
      "(1597.8526, 1597.8526, 1597.8526, 1597.8526, 1597.8526, 1597.8526, 1597.8526, 2188.0862, 943.5188, 886.4974)\n"
     ]
    }
   ],
   "source": [
    "print(len(ids))\n",
    "print(len(spectra))\n",
    "print(len(pepidmass))\n",
    "print(len(sortedpeps))\n",
    "print(sortedpeps[0:10])\n",
    "print(sortedpepmasses[0:10])\n",
    "print(sortedspectra[0:10])\n",
    "print(sortedspecmasses[0:10])"
   ]
  },
  {
   "cell_type": "code",
   "execution_count": 328,
   "metadata": {},
   "outputs": [
    {
     "name": "stdout",
     "output_type": "stream",
     "text": [
      "done\n"
     ]
    }
   ],
   "source": [
    "#spectra = np.reshape(spectra, (len(spectra), 2))\n",
    "#sortedpeps = np.reshape(sortedpeps, (len(sortedpeps), 2))\n",
    "#print(spectra.shape)\n",
    "#print(sortedpeps.shape)\n",
    "sortedtspecs = [preprocessing.scale(GetSpectrum(pep)) for pep in sortedpeps]\n",
    "print('done')\n",
    "#print(sortedtspecs.shape)"
   ]
  },
  {
   "cell_type": "code",
   "execution_count": 329,
   "metadata": {},
   "outputs": [],
   "source": [
    "class Net(nn.Module):\n",
    "    def __init__(self):\n",
    "        super().__init__()\n",
    "        self.searching = False\n",
    "        \n",
    "        self.linear1_1 = nn.Linear(specsize, 1024)\n",
    "        self.linear1_2 = nn.Linear(1024, 512)\n",
    "        \n",
    "    def forward(self, data):\n",
    "        res = []\n",
    "        #x = data[:, 0]\n",
    "        #x = self.linear1_1(x.view(-1, specsize))\n",
    "        #x = F.relu(x)\n",
    "        #x = self.dropout1(x)\n",
    "        #x = self.linear1_2(x)\n",
    "        #x = F.relu(x)\n",
    "        #x = self.dropout2(x)\n",
    "        #x = self.dropout2(x)\n",
    "        #x = self.linear1_3(x)\n",
    "        #x = F.relu(x)\n",
    "        #if not self.searching:\n",
    "        #    x = F.normalize(x)\n",
    "        #res.append(x)\n",
    "        for i in range(data.shape[1]):\n",
    "            x = data[:, i]\n",
    "            x = self.linear2_1(x.view(-1, specsize))\n",
    "            x = F.relu(x)\n",
    "            x = self.dropout1(x)\n",
    "            #x = self.linear2_2(x)\n",
    "            #x = F.relu(x)\n",
    "            #x = self.dropout2(x)\n",
    "            #x = self.dropout2(x)\n",
    "            #x = self.linear2_3(x)\n",
    "            #x = F.relu(x)\n",
    "            #if not self.searching:\n",
    "            #x = F.normalize(x)\n",
    "            #x = self.linear1_3(x)\n",
    "            #x = F.relu(x)\n",
    "            res.append(x)\n",
    "        \n",
    "        return res\n",
    "        \n",
    "    def name(self):\n",
    "        return \"Net\""
   ]
  },
  {
   "cell_type": "code",
   "execution_count": 330,
   "metadata": {},
   "outputs": [
    {
     "data": {
      "text/plain": [
       "Net(\n",
       "  (linear1_1): Linear(in_features=8000, out_features=1024, bias=True)\n",
       "  (linear1_2): Linear(in_features=1024, out_features=512, bias=True)\n",
       "  (linear1_3): Linear(in_features=512, out_features=256, bias=True)\n",
       "  (linear2_1): Linear(in_features=8000, out_features=512, bias=True)\n",
       "  (linear2_2): Linear(in_features=1024, out_features=512, bias=True)\n",
       "  (linear2_3): Linear(in_features=512, out_features=256, bias=True)\n",
       "  (dropout1): Dropout(p=0.3)\n",
       "  (dropout2): Dropout(p=0.2)\n",
       ")"
      ]
     },
     "execution_count": 330,
     "metadata": {},
     "output_type": "execute_result"
    }
   ],
   "source": [
    "#model = torch.load('models/siamese99.1%modsworking_1.pt')\n",
    "model = torch.load('models/siamese90.1%normalized_2.pt')\n",
    "#model = torch.load('models/siamese99.4%working_1.pt')\n",
    "model.eval()\n",
    "#model.searching = False\n",
    "#model = 0\n",
    "model"
   ]
  },
  {
   "cell_type": "code",
   "execution_count": 331,
   "metadata": {},
   "outputs": [
    {
     "name": "stdout",
     "output_type": "stream",
     "text": [
      "99999\n"
     ]
    }
   ],
   "source": [
    "#device = torch.device('cuda' if torch.cuda.is_available() else 'cpu')\n",
    "device = torch.device('cuda')\n",
    "batch_size = 1024\n",
    "#print(spectra[:,0].reshape(len(spectra[:,0]), 1).shape)\n",
    "print(len(sortedspectra))\n",
    "spectraTensor = torch.tensor(sortedspectra, dtype=torch.float)[:, None, :]\n",
    "tspectraTensor = torch.tensor(sortedtspecs, dtype=torch.float)[:, None, :]\n",
    "\n",
    "spectra_loader = torch.utils.data.DataLoader(dataset=spectraTensor, batch_size=batch_size, shuffle=False)\n",
    "tspectra_loader = torch.utils.data.DataLoader(dataset=tspectraTensor, batch_size=batch_size, shuffle=False)"
   ]
  },
  {
   "cell_type": "code",
   "execution_count": 332,
   "metadata": {},
   "outputs": [],
   "source": [
    "#torch.save(spectra_loader, 'spectraloader.pt')\n",
    "#torch.save(tspectra_loader, 'tspectraloader.pt')"
   ]
  },
  {
   "cell_type": "code",
   "execution_count": 333,
   "metadata": {},
   "outputs": [],
   "source": [
    "def runModel(loader):\n",
    "    with torch.no_grad():\n",
    "        accurate_labels = 0\n",
    "        all_labels = 0\n",
    "        loss = 0\n",
    "        out = []\n",
    "        for batch_idx, data in enumerate(loader):\n",
    "\n",
    "            data = data.to(device)    \n",
    "            out.extend(model(data)[0].cpu().detach().numpy())\n",
    "    print(len(out))\n",
    "    return out"
   ]
  },
  {
   "cell_type": "code",
   "execution_count": 334,
   "metadata": {
    "scrolled": true
   },
   "outputs": [
    {
     "name": "stdout",
     "output_type": "stream",
     "text": [
      "99999\n",
      "38069\n",
      "99999\n",
      "38069\n",
      "torch.Size([38069, 1, 8000])\n"
     ]
    }
   ],
   "source": [
    "spectra_out = runModel(spectra_loader)\n",
    "tspectra_out = runModel(tspectra_loader)\n",
    "print(len(spectra_out))\n",
    "print(len(tspectra_out))\n",
    "#spectraTensor = model(spectraTensor)[0].cpu().detach().numpy()\n",
    "#tspectraTensor = model(tspectraTensor)[0].cpu().detach().numpy()\n",
    "print(tspectraTensor.shape)"
   ]
  },
  {
   "cell_type": "code",
   "execution_count": 335,
   "metadata": {},
   "outputs": [],
   "source": [
    "def find_range(arr, val, tolerance=3):\n",
    "    assert len(arr) > 0\n",
    "    assert tolerance > 0\n",
    "    assert val > 0\n",
    "    \n",
    "    left = val - tolerance if val - tolerance >= 0 else 0\n",
    "    right = val + tolerance\n",
    "    \n",
    "    ileft = bisect.bisect_left(arr, left)\n",
    "    iright = bisect.bisect_right(arr, right)\n",
    "    \n",
    "    return (ileft, iright-1) if iright - ileft > 0 else (-1, -1)\n",
    "    \n",
    "# Function to insert element \n",
    "def insert(lst, n): \n",
    "    assert not lst or len(lst[0]) == len(n)\n",
    "    \n",
    "    index = num_psm\n",
    "    # Searching for the position \n",
    "    for i in range(len(lst)): \n",
    "        if lst[i][0] > n[0]: \n",
    "            index = i \n",
    "            break\n",
    "      \n",
    "    # Inserting n in the list \n",
    "    lst = lst[:index] + [n] + lst[index:] \n",
    "    return lst[:num_psm]"
   ]
  },
  {
   "cell_type": "code",
   "execution_count": 336,
   "metadata": {},
   "outputs": [
    {
     "name": "stdout",
     "output_type": "stream",
     "text": [
      "29026\n",
      "29149\n",
      "1597.8526\n",
      "531.306377\n",
      "[]\n",
      "[[0.6, 3]]\n",
      "[[0.6, 3]]\n",
      "[[0.4, 23]]\n",
      "[[0.4, 23]]\n",
      "[[0, 7]]\n"
     ]
    }
   ],
   "source": [
    "testmass = sortedspecmasses[3]\n",
    "left, right = find_range(sortedpepmasses, testmass, precursor_tolerance)\n",
    "print(left)\n",
    "print(right)\n",
    "print(sortedspecmasses[3])\n",
    "print(sortedpepmasses[2])\n",
    "lst = [[0.5, 1], [0.7, 2], [0.8, 4]]\n",
    "lst = []\n",
    "print(lst)\n",
    "lst = insert(lst, [0.6, 3])\n",
    "print(lst)\n",
    "lst = insert(lst, [0.9, 9])\n",
    "print(lst)\n",
    "lst = insert(lst, [0.4, 23])\n",
    "print(lst)\n",
    "lst = insert(lst, [0.65, 12])\n",
    "print(lst)\n",
    "lst = insert(lst, [0, 7])\n",
    "print(lst)"
   ]
  },
  {
   "cell_type": "code",
   "execution_count": 337,
   "metadata": {},
   "outputs": [
    {
     "name": "stdout",
     "output_type": "stream",
     "text": [
      "99%\n"
     ]
    }
   ],
   "source": [
    "psm_scores = []\n",
    "prev = 0\n",
    "for ind, spec in enumerate(spectra_out):\n",
    "    spec_mass = sortedspecmasses[ind]\n",
    "    left, right = find_range(sortedpepmasses, spec_mass, precursor_tolerance)\n",
    "    if left != -1 and right != -1:\n",
    "        candidate_tspecs = tspectra_out[left:right+1]\n",
    "        l_scores = np.linalg.norm(np.subtract(candidate_tspecs, spec), axis=1)**2\n",
    "        psm_scores.append(left + l_scores.argsort()[:num_psm])\n",
    "        #print(ind)\n",
    "        new = int((ind/len(spectra_out)) * 100)\n",
    "        if new > prev:\n",
    "            clear_output(wait=True)\n",
    "            print(str(new) + '%')\n",
    "            prev = new\n",
    "    else:\n",
    "        print('***********error**************')\n",
    "        print('ind: ' + str(ind))\n",
    "        print('spec_mass: ' + str(spec_mass))\n",
    "        print('**********end error************')"
   ]
  },
  {
   "cell_type": "code",
   "execution_count": 338,
   "metadata": {},
   "outputs": [
    {
     "name": "stdout",
     "output_type": "stream",
     "text": [
      "99999\n",
      "76449\n",
      "76.44976449764498% correct matches in top 1 psms.\n"
     ]
    }
   ],
   "source": [
    "sortedpeps = np.array(sortedpeps)\n",
    "correct_matches = 0\n",
    "for ind, psms in enumerate(psm_scores):\n",
    "    #print('ind: ' + str(ind) + ', mass: ' + str(sortedspecmasses[ind]))\n",
    "    #print('psms: ' + str(psms) + ', psm mass: ' + str(sortedpepmasses[psms[0]]))\n",
    "    cand_peps = sortedpeps[psms]\n",
    "    #print(cand_peps)\n",
    "    for pep in cand_peps:\n",
    "        #print('pepidmass: ' + str(pepidmass[pep][0]))\n",
    "        #print('ids: ' + str(ids[ind]) + ', in: ' + str(pepidmass[pep][0]))\n",
    "        if ids[ind] in pepidmass[pep][0]:\n",
    "            correct_matches += 1\n",
    "            break\n",
    "print(len(psm_scores))\n",
    "print(correct_matches)\n",
    "print(str((correct_matches/len(psm_scores)) * 100) + '% correct matches in top ' + str(num_psm) + ' psms.')"
   ]
  },
  {
   "cell_type": "markdown",
   "metadata": {},
   "source": [
    "mods model: 67.8%\n",
    "nonmods model: 66.7%\n",
    "single layer: 76.4%"
   ]
  },
  {
   "cell_type": "markdown",
   "metadata": {},
   "source": [
    "## Accuracy\n",
    "### Without Mods:\n",
    "#### Top 5:\n",
    "With 3 Da precursor tolerance: 99.5%  \n",
    "With 50 Da precursor tolerance: 96.3%  \n",
    "With all to all search: 87.9%  \n",
    "  \n",
    "#### Top 1:\n",
    "With 3 Da precursor tolerance: 96.6% in top 1  \n",
    "With 50 Da precursor tolerance: 89.1% in top 1  \n",
    "With all to all search 76.0% in top 1\n",
    "  \n",
    "### With Mods:\n",
    "#### Top 5:\n",
    "82.7%  \n",
    "  \n",
    "#### Top 1:\n",
    "69.4%"
   ]
  },
  {
   "cell_type": "code",
   "execution_count": null,
   "metadata": {},
   "outputs": [],
   "source": []
  },
  {
   "cell_type": "code",
   "execution_count": null,
   "metadata": {},
   "outputs": [],
   "source": [
    "print(count)"
   ]
  },
  {
   "cell_type": "code",
   "execution_count": null,
   "metadata": {},
   "outputs": [],
   "source": [
    "x = [1, 2, 3]\n",
    "print(*x)\n",
    "y = [4, 5, 6]\n",
    "z = list(zip(x, y))\n",
    "print(z)"
   ]
  },
  {
   "cell_type": "code",
   "execution_count": null,
   "metadata": {},
   "outputs": [],
   "source": [
    "lst = [[1,2,3], [4,5,6], [7,8,9], [10,11,12]]\n",
    "lstar = np.array(lst)\n",
    "print(lstar)\n",
    "x = [1,2,3]\n",
    "lstar = np.subtract(lstar, x)\n",
    "print(lstar)\n",
    "lstar = np.linalg.norm(lstar, axis=1)\n",
    "print(lstar)\n",
    "print(lstar**2)"
   ]
  },
  {
   "cell_type": "code",
   "execution_count": null,
   "metadata": {},
   "outputs": [],
   "source": [
    "lst = [0.7, 0.3, 0.5, 0.9]\n",
    "lst = np.array(lst)\n",
    "print(lst.argsort())"
   ]
  },
  {
   "cell_type": "code",
   "execution_count": 219,
   "metadata": {},
   "outputs": [
    {
     "name": "stdout",
     "output_type": "stream",
     "text": [
      "50.0\n"
     ]
    }
   ],
   "source": [
    "print(precursor_tolerance)"
   ]
  },
  {
   "cell_type": "code",
   "execution_count": null,
   "metadata": {},
   "outputs": [],
   "source": []
  }
 ],
 "metadata": {
  "kernelspec": {
   "display_name": "Python 3",
   "language": "python",
   "name": "python3"
  },
  "language_info": {
   "codemirror_mode": {
    "name": "ipython",
    "version": 3
   },
   "file_extension": ".py",
   "mimetype": "text/x-python",
   "name": "python",
   "nbconvert_exporter": "python",
   "pygments_lexer": "ipython3",
   "version": "3.7.4"
  }
 },
 "nbformat": 4,
 "nbformat_minor": 2
}
