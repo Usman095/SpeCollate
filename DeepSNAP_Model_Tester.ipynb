{
 "cells": [
  {
   "cell_type": "code",
   "execution_count": 218,
   "metadata": {},
   "outputs": [],
   "source": [
    "import pandas as pd\n",
    "from pandas import ExcelWriter\n",
    "from pandas import ExcelFile\n",
    "import numpy as np\n",
    "import random as rand\n",
    "import queue\n",
    "import csv\n",
    "from collections import OrderedDict\n",
    "from IPython.display import clear_output\n",
    "import csv\n",
    "from heapq import merge\n",
    "from sklearn import preprocessing\n",
    "from operator import itemgetter\n",
    "import bisect\n",
    "\n",
    "from sklearn.datasets import make_circles, make_moons\n",
    "import matplotlib.pyplot as plt\n",
    "import matplotlib\n",
    "from sklearn.model_selection import train_test_split\n",
    "\n",
    "import torch\n",
    "import torch.nn as nn\n",
    "import torch.nn.functional as F\n",
    "import torch.optim as optim\n",
    "import torchvision\n",
    "import torchvision.transforms as transforms\n",
    "import torchvision.datasets as datasets\n",
    "from IPython.core.debugger import set_trace\n",
    "from torch.utils.data.sampler import SubsetRandomSampler\n",
    "from torch.autograd import Variable"
   ]
  },
  {
   "cell_type": "code",
   "execution_count": 242,
   "metadata": {},
   "outputs": [],
   "source": [
    "rand.seed(37)\n",
    "AAMass = {'A':71.037114, 'C':103.009185, 'D':115.026943, 'E':129.042593, 'F':147.068414, 'G':57.021464, 'H':137.058912,\n",
    "          'I':113.084064, 'K':128.094963, 'L':113.084064, 'M':131.040485, 'N':114.042927, 'P':97.052764, 'Q':128.058578,\n",
    "          'R':156.101111, 'S':87.032028, 'T':101.047679, 'V':99.068414, 'W':186.079313, 'Y':163.0633}\n",
    "\n",
    "H2O = 18.01528\n",
    "PROTON = 1.00727647\n",
    "specsize = 8000\n",
    "precursor_tolerance = 200.0\n",
    "num_psm = 1\n",
    "charge = 2\n",
    "use_mods = True"
   ]
  },
  {
   "cell_type": "code",
   "execution_count": 243,
   "metadata": {},
   "outputs": [
    {
     "name": "stdout",
     "output_type": "stream",
     "text": [
      "printing by:\n",
      "[0. 0. 0. ... 0. 0. 0.]\n",
      "(8000,)\n",
      "113.084064\n"
     ]
    }
   ],
   "source": [
    "def GetAAMass(AA):\n",
    "    return AAMass[AA] + 57.021464 if AA == 'C' else AAMass[AA]\n",
    "\n",
    "def GetPepMass(pep):\n",
    "    return sum(AAMass[aa] for aa in pep) + H2O\n",
    "\n",
    "def GetSpectrum(Seq):\n",
    "    size = len(Seq)\n",
    "    outsize = 2*size\n",
    "    bspectrum = []\n",
    "    yspectrum = []\n",
    "    bspectrum.append(GetAAMass(Seq[0]) + PROTON)\n",
    "    yspectrum.append(GetAAMass(Seq[-1]) + H2O + PROTON)\n",
    "    \n",
    "    for (i, fAA), bAA in zip(enumerate(Seq[1:]), Seq[-2::-1]):\n",
    "        bspectrum.append(bspectrum[i] + GetAAMass(fAA))\n",
    "        yspectrum.append(yspectrum[i] + GetAAMass(bAA))\n",
    "    \n",
    "    mergedout = list(merge(bspectrum, yspectrum))\n",
    "    if mergedout[-1] > specsize:\n",
    "        print(mergedout[-1])\n",
    "        print(Seq)\n",
    "    tspec = np.zeros(specsize)\n",
    "    tspec[np.rint(mergedout).astype(int)] = 1\n",
    "    return tspec\n",
    "\n",
    "by = GetSpectrum('ACDEFG')\n",
    "print('printing by:\\n' + str(by))\n",
    "print(by.shape)\n",
    "print(AAMass['L'])"
   ]
  },
  {
   "cell_type": "code",
   "execution_count": 270,
   "metadata": {},
   "outputs": [
    {
     "name": "stdout",
     "output_type": "stream",
     "text": [
      "54%\n",
      "num multimods: 1\n"
     ]
    }
   ],
   "source": [
    "pepidmass = {}\n",
    "mods = {}\n",
    "spectra = []\n",
    "sortedpeps = []\n",
    "specmasses = []\n",
    "\n",
    "f=open(\"human_consensus_final_true_lib_id.msp\", \"r\")\n",
    "#f=open(\"test_id.msp\", \"r\")\n",
    "#fo = open('output.csv', 'w')\n",
    "#fo.write('Q,P,N\\n')\n",
    "fixedlen = 300\n",
    "dataset = []\n",
    "label = []\n",
    "lines = f.readlines()\n",
    "count = 0\n",
    "limit = 100000\n",
    "pep = mass = numPeaks = 0\n",
    "#spec = []\n",
    "isName = isMW = isNumPeaks = isID = False\n",
    "new = prev = 0\n",
    "maxpeaks = maxmoz = 0\n",
    "ids = []\n",
    "i = 0\n",
    "mod_count = 0\n",
    "multimods = 0\n",
    "while i < len(lines) and limit > 0:\n",
    "    line = lines[i]\n",
    "    i += 1\n",
    "    \n",
    "    splits = line.split(':')\n",
    "    if splits[0] == 'ID':\n",
    "        pepid = int(splits[1])\n",
    "        isID = True\n",
    "    \n",
    "    if isID and splits[0] == 'Name' and '_' in splits[1]:\n",
    "        split1 = splits[1]\n",
    "        l_charge = int(split1[split1.find('_') - 1])\n",
    "        if int(split1[split1.find('_') + 1]) > 7:\n",
    "            multimods += 1\n",
    "        if l_charge != charge:\n",
    "            isID = isName = isMW = isNumPeaks = False\n",
    "            continue\n",
    "        if use_mods:\n",
    "            if '(' in split1 and ')' in split1:\n",
    "                mod_count += 1\n",
    "                mod = split1.split('_')[1].strip()[:-1]\n",
    "                if mod not in mods:\n",
    "                    mods[mod] = 1\n",
    "                else:\n",
    "                    mods[mod] += 1\n",
    "            pep = split1.split('/')[0].lstrip(' ')\n",
    "            isName = True\n",
    "        elif '(' not in split1 and ')' not in split1:\n",
    "            pep = split1.split('/')[0].lstrip(' ')\n",
    "            isName = True\n",
    "        \n",
    "    if isID and isName and splits[0] == 'MW':\n",
    "        mass = float(splits[1])\n",
    "        if round(mass) < specsize:\n",
    "            isMW = True\n",
    "            limit = limit - 1\n",
    "        else:\n",
    "            isID = isName = isMW = isNumPeaks = False\n",
    "            continue\n",
    "        \n",
    "    if isID and isName and isMW and splits[0] == 'Num peaks':\n",
    "        numPeaks = int(splits[1])\n",
    "        if numPeaks > maxpeaks:\n",
    "            maxpeaks = numPeaks\n",
    "            \n",
    "        spec = np.zeros(specsize)\n",
    "        while (lines[i] != '\\n'):\n",
    "            mzline = lines[i]\n",
    "            i += 1\n",
    "            mzsplits = mzline.split('\\t')\n",
    "            moz, intensity = float(mzsplits[0]), float(mzsplits[1])\n",
    "            if moz > maxmoz:\n",
    "                maxmoz = moz\n",
    "            spec[round(moz)] += round(intensity)\n",
    "        \n",
    "        #padlen = fixedlen - len(spec)\n",
    "        #leftpad = rand.randint(0, padlen)\n",
    "        #rightpad = padlen - leftpad\n",
    "        #npspec = np.reshape(spec, (len(spec), 2))\n",
    "        #npspec = np.pad(npspec, ((leftpad, rightpad), (0, 0)), 'constant', constant_values=(0, 0))\n",
    "        spec = np.clip(spec, None, 1000.0)\n",
    "        spec = preprocessing.scale(spec)\n",
    "        #min_max_scaler = sklearn.preprocessing.MinMaxScaler()\n",
    "        #npspec[:,1] = sklearn.preprocessing.minmax_scale(npspec[:,1])\n",
    "        \n",
    "        isNumPeaks = True\n",
    "    if isID and isName and isMW and isNumPeaks:\n",
    "        isID = isName = isMW = isNumPeaks = False\n",
    "        spectra.append([spec, mass])\n",
    "        ids.append(pepid)\n",
    "        if pep not in pepidmass:\n",
    "            pepidmass[pep] = [[pepid], GetPepMass(pep)] #add calculated mass\n",
    "        else:\n",
    "            pepidmass[pep][0].append(pepid)\n",
    "            \n",
    "        #add calculated mass\n",
    "        #revPep = pep[0] + pep[1:-1][::-1] + pep[-1]\n",
    "        #if pep == revPep:\n",
    "        #    print('decoy is the same. shuffling')\n",
    "        #    revPep = ''.join(rand.sample(revPep,len(revPep)))\n",
    "        \n",
    "        #fo.write('\"' + str(list(spec)).strip('[]') + '\",' + str(pep) + ',' + str(revPep) + '\\n')\n",
    "        #tspec = GetSpectrum(pep)\n",
    "        #rtspec = GetSpectrum(revPep)\n",
    "        #padlen = fixedlen - len(tspec)\n",
    "        #leftpad = rand.randint(0, padlen)\n",
    "        #rightpad = padlen - leftpad\n",
    "        #tspec = np.pad(tspec, ((leftpad, rightpad), (0, 0)), 'constant', constant_values=(0, 0))\n",
    "        #padlen = fixedlen - len(rtspec)\n",
    "        #leftpad = rand.randint(0, padlen)\n",
    "        #rightpad = padlen - leftpad\n",
    "        #rtspec = np.pad(rtspec, ((leftpad, rightpad), (0, 0)), 'constant', constant_values=(0, 0))\n",
    "        \n",
    "        #spectensor = transforms.ToTensor()(spec).view(specsize,-1).float()\n",
    "        #tspectensor = transforms.ToTensor()(tspec).view(specsize,-1).float()\n",
    "        #rtspectensor = transforms.ToTensor()(rtspec).view(specsize,-1).float()\n",
    "        \n",
    "        #dataset.append([spec, tspec, rtspec])\n",
    "        #label.append([1, -1])\n",
    "        #dataset.append([np.reshape(spec, (len(spec), 2)), tspec, rtspec])\n",
    "        count = count + 1\n",
    "        pepid = pep = mass = numPeaks = 0\n",
    "        spec = []\n",
    "        new = int((i/len(lines)) * 100)\n",
    "        if new > prev:\n",
    "            clear_output(wait=True)\n",
    "            print(str(new) + '%')\n",
    "            prev = new\n",
    "print('num multimods: ' + str(multimods))"
   ]
  },
  {
   "cell_type": "code",
   "execution_count": 271,
   "metadata": {},
   "outputs": [
    {
     "name": "stdout",
     "output_type": "stream",
     "text": [
      "num modified specs: 28747\n",
      "num unique mods: 1629\n",
      "max peaks: 251\n",
      "count: 99999\n",
      "max moz: 2370.2\n"
     ]
    }
   ],
   "source": [
    "sortedpeps = [[pep, float(mass[1])] for [pep, mass] in pepidmass.items()]\n",
    "sortedpeps, sortedpepmasses = list(zip(*sorted(sortedpeps, key=lambda pair: pair[1])))\n",
    "#sortedspectra, sortedspecmasses = list(zip(*sorted(spectra, key=lambda pair:pair[1])))\n",
    "sortedspectra, sortedspecmasses = list(zip(*spectra))\n",
    "#sortedpeps.sort(key=itemgetter(1))\n",
    "print('num modified specs: ' + str(sum(mods.values())))\n",
    "print('num unique mods: ' + str(len(mods)))\n",
    "\n",
    "print('max peaks: ' + str(maxpeaks))\n",
    "print('count: ' + str(count))\n",
    "print('max moz: ' + str(maxmoz))\n",
    "f.close()\n",
    "#for it in mods.items():\n",
    "#    print(it)\n",
    "\n",
    "#fo.close()"
   ]
  },
  {
   "cell_type": "code",
   "execution_count": 272,
   "metadata": {},
   "outputs": [
    {
     "name": "stdout",
     "output_type": "stream",
     "text": [
      "99999\n",
      "99999\n",
      "88212\n",
      "88212\n",
      "('CLLPK', 'CSVIR', 'CMCIK', 'LILLK', 'LAATPK', 'LAQLR', 'INLLK', 'GLVIAK', 'IEVLK', 'LDILK')\n",
      "(572.34032, 576.310082, 596.253162, 598.446499, 599.368978, 599.380211, 599.405362, 599.405363, 600.389378, 600.389378)\n",
      "(array([-0.11289521, -0.11289521, -0.11289521, ..., -0.11289521,\n",
      "       -0.11289521, -0.11289521]), array([-0.13213208, -0.13213208, -0.13213208, ..., -0.13213208,\n",
      "       -0.13213208, -0.13213208]), array([-0.07854022, -0.07854022, -0.07854022, ..., -0.07854022,\n",
      "       -0.07854022, -0.07854022]), array([-0.13432618, -0.13432618, -0.13432618, ..., -0.13432618,\n",
      "       -0.13432618, -0.13432618]), array([-0.12407095, -0.12407095, -0.12407095, ..., -0.12407095,\n",
      "       -0.12407095, -0.12407095]), array([-0.09115811, -0.09115811, -0.09115811, ..., -0.09115811,\n",
      "       -0.09115811, -0.09115811]), array([-0.10909656, -0.10909656, -0.10909656, ..., -0.10909656,\n",
      "       -0.10909656, -0.10909656]), array([-0.09858578, -0.09858578, -0.09858578, ..., -0.09858578,\n",
      "       -0.09858578, -0.09858578]), array([-0.12454193, -0.12454193, -0.12454193, ..., -0.12454193,\n",
      "       -0.12454193, -0.12454193]), array([-0.11748889, -0.11748889, -0.11748889, ..., -0.11748889,\n",
      "       -0.11748889, -0.11748889]))\n",
      "(1597.854, 1455.779, 1241.648, 1752.898, 886.498, 1900.089, 1170.61, 787.455, 2369.219, 1001.562)\n"
     ]
    }
   ],
   "source": [
    "print(len(ids))\n",
    "print(len(spectra))\n",
    "print(len(pepidmass))\n",
    "print(len(sortedpeps))\n",
    "print(sortedpeps[0:10])\n",
    "print(sortedpepmasses[0:10])\n",
    "print(sortedspectra[0:10])\n",
    "print(sortedspecmasses[0:10])"
   ]
  },
  {
   "cell_type": "code",
   "execution_count": 273,
   "metadata": {},
   "outputs": [],
   "source": [
    "#spectra = np.reshape(spectra, (len(spectra), 2))\n",
    "#sortedpeps = np.reshape(sortedpeps, (len(sortedpeps), 2))\n",
    "#print(spectra.shape)\n",
    "#print(sortedpeps.shape)\n",
    "sortedtspecs = [preprocessing.scale(GetSpectrum(pep)) for pep in sortedpeps]\n",
    "#print(sortedtspecs.shape)"
   ]
  },
  {
   "cell_type": "code",
   "execution_count": 274,
   "metadata": {},
   "outputs": [],
   "source": [
    "class Net(nn.Module):\n",
    "    def __init__(self):\n",
    "        super().__init__()\n",
    "        \n",
    "        #self.conv1 = nn.Conv2d(1, 64, 7)\n",
    "        self.linear1_1 = nn.Linear(specsize, 1024)\n",
    "        self.linear1_2 = nn.Linear(1024, 512)\n",
    "        self.linear1_3 = nn.Linear(1024, 512)\n",
    "        #self.linear1_3 = nn.Linear(256, 128)\n",
    "        self.linear1_4 = nn.Linear(512, 256)\n",
    "        \n",
    "        self.lstm2_1 = nn.Linear(specsize, 1024)\n",
    "        self.linear2_1 = nn.Linear(1024, 512)\n",
    "        self.linear2_2 = nn.Linear(512, 256)\n",
    "        #self.pool1 = nn.MaxPool2d(2)\n",
    "        #self.conv2 = nn.Conv2d(64, 128, 5)\n",
    "        #self.conv3 = nn.Conv2d(128, 256, 5)\n",
    "        \n",
    "        self.linear1 = nn.Linear(128, 2)\n",
    "        self.linear2 = nn.Linear(64, 2)\n",
    "        \n",
    "        self.dropout = nn.Dropout(0.1)\n",
    "        \n",
    "        #self.linear2 = nn.Linear(512, 2)\n",
    "        \n",
    "    def forward(self, data):\n",
    "        res = []\n",
    "        for i in range(data.shape[1]):\n",
    "            x = data[:, i]\n",
    "            x = self.linear1_1(x.view(-1, specsize))\n",
    "            x = F.relu(x)\n",
    "            x = F.dropout(x, training=self.training)\n",
    "            x = self.linear1_2(x)\n",
    "            x = F.relu(x)\n",
    "            #x = self.linear1_3(x)\n",
    "            #x = F.relu(x)\n",
    "            res.append(x)\n",
    "        \n",
    "#         x1 = data[:,0]\n",
    "#         x1 = self.linear1_1(x1.view(-1, specsize))\n",
    "#         x1 = F.relu(x1)\n",
    "#         x1 = F.dropout(x1, training=self.training)\n",
    "        \n",
    "#         x1 = self.linear1_2(x1)\n",
    "#         x1 = F.relu(x1)\n",
    "        \n",
    "#         x1 = self.linear1_3(x1)\n",
    "#         x1 = F.relu(x1)\n",
    "        \n",
    "# #         x1 = self.linear1_3(x1)\n",
    "# #         x1 = F.relu(x1)\n",
    "        \n",
    "# #         x1 = self.linear1_4(x1)\n",
    "# #         x1 = F.relu(x1)\n",
    "        \n",
    "#         x2 = data[:,1]\n",
    "        \n",
    "#         x2 = self.linear1_1(x2.view(-1, specsize))\n",
    "#         x2 = F.relu(x2)\n",
    "#         x2 = F.dropout(x2, training=self.training)\n",
    "        \n",
    "#         x2 = self.linear1_2(x2)\n",
    "#         x2 = F.relu(x2)\n",
    "        \n",
    "#         x2 = self.linear1_3(x2)\n",
    "#         x2 = F.relu(x2)\n",
    "        \n",
    "#         x2 = self.linear1_3(x2)\n",
    "#         x2 = F.relu(x2)\n",
    "        \n",
    "#         x2 = self.linear1_4(x2)\n",
    "#         x2 = F.relu(x2)\n",
    "        #res = F.pairwise_distance(x1, x2)\n",
    "        #res = torch.abs(x1 - x2)\n",
    "        #print(res.shape)\n",
    "        #res = self.linear1(res)\n",
    "        #res = self.linear2(res)\n",
    "        \n",
    "        #return F.log_softmax(res, 1)\n",
    "        return res\n",
    "        \n",
    "#        for i in range(2): # Siamese nets; sharing weights\n",
    "#            x = data[i]\n",
    "#            x = self.conv1(x)\n",
    "#            x = F.relu(x)\n",
    "#            x = self.pool1(x)\n",
    "#            x = self.conv2(x)\n",
    "#            x = F.relu(x)\n",
    "#            x = self.conv3(x)\n",
    "#            x = F.relu(x)\n",
    "#            \n",
    "#            x = x.view(x.shape[0], -1)\n",
    "#            x = self.linear1(x)\n",
    "#            res.append(F.relu(x))\n",
    "#        \n",
    "#        res = torch.abs(res[1] - res[0])\n",
    "#        res = self.linear2(res)\n",
    "#        return res\n",
    "    def name(self):\n",
    "        return \"Net\""
   ]
  },
  {
   "cell_type": "code",
   "execution_count": 275,
   "metadata": {},
   "outputs": [
    {
     "data": {
      "text/plain": [
       "Net(\n",
       "  (linear1_1): Linear(in_features=8000, out_features=1024, bias=True)\n",
       "  (linear1_2): Linear(in_features=1024, out_features=512, bias=True)\n",
       "  (linear1_3): Linear(in_features=1024, out_features=512, bias=True)\n",
       "  (linear1_4): Linear(in_features=512, out_features=256, bias=True)\n",
       "  (lstm2_1): Linear(in_features=8000, out_features=1024, bias=True)\n",
       "  (linear2_1): Linear(in_features=1024, out_features=512, bias=True)\n",
       "  (linear2_2): Linear(in_features=512, out_features=256, bias=True)\n",
       "  (linear1): Linear(in_features=128, out_features=2, bias=True)\n",
       "  (linear2): Linear(in_features=64, out_features=2, bias=True)\n",
       "  (dropout): Dropout(p=0.1)\n",
       ")"
      ]
     },
     "execution_count": 275,
     "metadata": {},
     "output_type": "execute_result"
    }
   ],
   "source": [
    "#model = torch.load('siamese99.1%modsworking.pt')\n",
    "model = torch.load('siamese99.1%modsworking.pt')\n",
    "model.eval()"
   ]
  },
  {
   "cell_type": "code",
   "execution_count": 276,
   "metadata": {},
   "outputs": [
    {
     "name": "stdout",
     "output_type": "stream",
     "text": [
      "99999\n"
     ]
    }
   ],
   "source": [
    "#device = torch.device('cuda' if torch.cuda.is_available() else 'cpu')\n",
    "device = torch.device('cuda')\n",
    "batch_size = 1024\n",
    "#print(spectra[:,0].reshape(len(spectra[:,0]), 1).shape)\n",
    "print(len(sortedspectra))\n",
    "spectraTensor = torch.tensor(sortedspectra, dtype=torch.float)[:, None, :]\n",
    "tspectraTensor = torch.tensor(sortedtspecs, dtype=torch.float)[:, None, :]\n",
    "\n",
    "spectra_loader = torch.utils.data.DataLoader(dataset=spectraTensor, batch_size=batch_size, shuffle=False)\n",
    "tspectra_loader = torch.utils.data.DataLoader(dataset=tspectraTensor, batch_size=batch_size, shuffle=False)"
   ]
  },
  {
   "cell_type": "code",
   "execution_count": 277,
   "metadata": {},
   "outputs": [],
   "source": [
    "#torch.save(spectra_loader, 'spectraloader.pt')\n",
    "#torch.save(tspectra_loader, 'tspectraloader.pt')"
   ]
  },
  {
   "cell_type": "code",
   "execution_count": 278,
   "metadata": {},
   "outputs": [],
   "source": [
    "def runModel(loader):\n",
    "    with torch.no_grad():\n",
    "        accurate_labels = 0\n",
    "        all_labels = 0\n",
    "        loss = 0\n",
    "        out = []\n",
    "        for batch_idx, data in enumerate(loader):\n",
    "\n",
    "            data = data.to(device)    \n",
    "            out.extend(model(data)[0].cpu().detach().numpy())\n",
    "    print(len(out))\n",
    "    return out"
   ]
  },
  {
   "cell_type": "code",
   "execution_count": 279,
   "metadata": {
    "scrolled": true
   },
   "outputs": [
    {
     "name": "stdout",
     "output_type": "stream",
     "text": [
      "99999\n",
      "88212\n",
      "99999\n",
      "88212\n",
      "torch.Size([88212, 1, 8000])\n"
     ]
    }
   ],
   "source": [
    "spectra_out = runModel(spectra_loader)\n",
    "tspectra_out = runModel(tspectra_loader)\n",
    "print(len(spectra_out))\n",
    "print(len(tspectra_out))\n",
    "#spectraTensor = model(spectraTensor)[0].cpu().detach().numpy()\n",
    "#tspectraTensor = model(tspectraTensor)[0].cpu().detach().numpy()\n",
    "print(tspectraTensor.shape)"
   ]
  },
  {
   "cell_type": "code",
   "execution_count": 280,
   "metadata": {},
   "outputs": [],
   "source": [
    "def find_range(arr, val, tolerance=3):\n",
    "    assert len(arr) > 0\n",
    "    assert tolerance > 0\n",
    "    assert val > 0\n",
    "    \n",
    "    left = val - tolerance if val - tolerance >= 0 else 0\n",
    "    right = val + tolerance\n",
    "    \n",
    "    ileft = bisect.bisect_left(arr, left)\n",
    "    iright = bisect.bisect_right(arr, right)\n",
    "    \n",
    "    return (ileft, iright-1) if iright - ileft > 0 else (-1, -1)\n",
    "    \n",
    "# Function to insert element \n",
    "def insert(lst, n): \n",
    "    assert not lst or len(lst[0]) == len(n)\n",
    "    \n",
    "    index = num_psm\n",
    "    # Searching for the position \n",
    "    for i in range(len(lst)): \n",
    "        if lst[i][0] > n[0]: \n",
    "            index = i \n",
    "            break\n",
    "      \n",
    "    # Inserting n in the list \n",
    "    lst = lst[:index] + [n] + lst[index:] \n",
    "    return lst[:num_psm]"
   ]
  },
  {
   "cell_type": "code",
   "execution_count": 281,
   "metadata": {},
   "outputs": [
    {
     "name": "stdout",
     "output_type": "stream",
     "text": [
      "54737\n",
      "73399\n",
      "1752.898\n",
      "596.253162\n",
      "[]\n",
      "[[0.6, 3]]\n",
      "[[0.6, 3]]\n",
      "[[0.4, 23]]\n",
      "[[0.4, 23]]\n",
      "[[0, 7]]\n"
     ]
    }
   ],
   "source": [
    "testmass = sortedspecmasses[3]\n",
    "left, right = find_range(sortedpepmasses, testmass, precursor_tolerance)\n",
    "print(left)\n",
    "print(right)\n",
    "print(sortedspecmasses[3])\n",
    "print(sortedpepmasses[2])\n",
    "lst = [[0.5, 1], [0.7, 2], [0.8, 4]]\n",
    "lst = []\n",
    "print(lst)\n",
    "lst = insert(lst, [0.6, 3])\n",
    "print(lst)\n",
    "lst = insert(lst, [0.9, 9])\n",
    "print(lst)\n",
    "lst = insert(lst, [0.4, 23])\n",
    "print(lst)\n",
    "lst = insert(lst, [0.65, 12])\n",
    "print(lst)\n",
    "lst = insert(lst, [0, 7])\n",
    "print(lst)"
   ]
  },
  {
   "cell_type": "code",
   "execution_count": 282,
   "metadata": {},
   "outputs": [
    {
     "name": "stdout",
     "output_type": "stream",
     "text": [
      "99%\n"
     ]
    }
   ],
   "source": [
    "psm_scores = []\n",
    "prev = 0\n",
    "for ind, spec in enumerate(spectra_out):\n",
    "    spec_mass = sortedspecmasses[ind]\n",
    "    left, right = find_range(sortedpepmasses, spec_mass, precursor_tolerance)\n",
    "    if left != -1 and right != -1:\n",
    "        candidate_tspecs = tspectra_out[left:right+1]\n",
    "        l_scores = np.linalg.norm(np.subtract(candidate_tspecs, spec), axis=1)**2\n",
    "        psm_scores.append(left + l_scores.argsort()[:num_psm])\n",
    "        #print(ind)\n",
    "        new = int((ind/len(spectra_out)) * 100)\n",
    "        if new > prev:\n",
    "            clear_output(wait=True)\n",
    "            print(str(new) + '%')\n",
    "            prev = new\n",
    "    else:\n",
    "        print('***********error**************')\n",
    "        print('ind: ' + str(ind))\n",
    "        print('spec_mass: ' + str(spec_mass))\n",
    "        print('**********end error************')"
   ]
  },
  {
   "cell_type": "code",
   "execution_count": 283,
   "metadata": {},
   "outputs": [
    {
     "name": "stdout",
     "output_type": "stream",
     "text": [
      "99999\n",
      "69381\n",
      "69.38169381693817% correct matches in top 1 psms.\n"
     ]
    }
   ],
   "source": [
    "sortedpeps = np.array(sortedpeps)\n",
    "correct_matches = 0\n",
    "for ind, psms in enumerate(psm_scores):\n",
    "    #print('ind: ' + str(ind) + ', mass: ' + str(sortedspecmasses[ind]))\n",
    "    #print('psms: ' + str(psms) + ', psm mass: ' + str(sortedpepmasses[psms[0]]))\n",
    "    cand_peps = sortedpeps[psms]\n",
    "    #print(cand_peps)\n",
    "    for pep in cand_peps:\n",
    "        #print('pepidmass: ' + str(pepidmass[pep][0]))\n",
    "        #print('ids: ' + str(ids[ind]) + ', in: ' + str(pepidmass[pep][0]))\n",
    "        if ids[ind] in pepidmass[pep][0]:\n",
    "            correct_matches += 1\n",
    "            break\n",
    "print(len(psm_scores))\n",
    "print(correct_matches)\n",
    "print(str((correct_matches/len(psm_scores)) * 100) + '% correct matches in top ' + str(num_psm) + ' psms.')"
   ]
  },
  {
   "cell_type": "markdown",
   "metadata": {},
   "source": [
    "## Accuracy\n",
    "### Without Mods:\n",
    "#### Top 5:\n",
    "With 3 Da precursor tolerance: 99.5%  \n",
    "With 50 Da precursor tolerance: 96.3%  \n",
    "With all to all search: 87.9%  \n",
    "  \n",
    "#### Top 1:\n",
    "With 3 Da precursor tolerance: 96.6% in top 1  \n",
    "With 50 Da precursor tolerance: 89.1% in top 1  \n",
    "With all to all search 76.0% in top 1\n",
    "  \n",
    "### With Mods:\n",
    "#### Top 5:\n",
    "82.7%  \n",
    "  \n",
    "#### Top 1:\n",
    "69.4%"
   ]
  },
  {
   "cell_type": "code",
   "execution_count": null,
   "metadata": {},
   "outputs": [],
   "source": []
  },
  {
   "cell_type": "code",
   "execution_count": null,
   "metadata": {},
   "outputs": [],
   "source": [
    "print(count)"
   ]
  },
  {
   "cell_type": "code",
   "execution_count": null,
   "metadata": {},
   "outputs": [],
   "source": [
    "x = [1, 2, 3]\n",
    "print(*x)\n",
    "y = [4, 5, 6]\n",
    "z = list(zip(x, y))\n",
    "print(z)"
   ]
  },
  {
   "cell_type": "code",
   "execution_count": null,
   "metadata": {},
   "outputs": [],
   "source": [
    "lst = [[1,2,3], [4,5,6], [7,8,9], [10,11,12]]\n",
    "lstar = np.array(lst)\n",
    "print(lstar)\n",
    "x = [1,2,3]\n",
    "lstar = np.subtract(lstar, x)\n",
    "print(lstar)\n",
    "lstar = np.linalg.norm(lstar, axis=1)\n",
    "print(lstar)\n",
    "print(lstar**2)"
   ]
  },
  {
   "cell_type": "code",
   "execution_count": null,
   "metadata": {},
   "outputs": [],
   "source": [
    "lst = [0.7, 0.3, 0.5, 0.9]\n",
    "lst = np.array(lst)\n",
    "print(lst.argsort())"
   ]
  },
  {
   "cell_type": "code",
   "execution_count": null,
   "metadata": {},
   "outputs": [],
   "source": []
  }
 ],
 "metadata": {
  "kernelspec": {
   "display_name": "Python 3",
   "language": "python",
   "name": "python3"
  },
  "language_info": {
   "codemirror_mode": {
    "name": "ipython",
    "version": 3
   },
   "file_extension": ".py",
   "mimetype": "text/x-python",
   "name": "python",
   "nbconvert_exporter": "python",
   "pygments_lexer": "ipython3",
   "version": "3.7.4"
  }
 },
 "nbformat": 4,
 "nbformat_minor": 2
}
